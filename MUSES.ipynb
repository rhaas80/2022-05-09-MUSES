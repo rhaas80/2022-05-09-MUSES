{
 "cells": [
  {
   "cell_type": "markdown",
   "metadata": {
    "slideshow": {
     "slide_type": "slide"
    }
   },
   "source": [
    "# General programing best practices\n",
    "<br/><br/><br/>\n",
    "<center>\n",
    "<a href=\"https://www.ncsa.illinois.edu/~rhaas\">Roland Haas</a>, NCSA and UIUC\n",
    "\n",
    "<a href=\"mailto:rhaas@illinois.edu\">rhaas@illinois.edu</a>\n",
    "</center>"
   ]
  },
  {
   "cell_type": "code",
   "execution_count": 1,
   "metadata": {
    "slideshow": {
     "slide_type": "subslide"
    }
   },
   "outputs": [
    {
     "data": {
      "text/html": [
       "<style>\n",
       ".rendered_html ul { display: block; }\n",
       ".floatright { float: right; padding-left: 1em; }\n",
       ".floatleft { float: left; padding-right: 1em; }\n",
       "</style>\n"
      ],
      "text/plain": [
       "<IPython.core.display.HTML object>"
      ]
     },
     "metadata": {},
     "output_type": "display_data"
    }
   ],
   "source": [
    "%%HTML\n",
    "<style>\n",
    ".rendered_html ul { display: block; }\n",
    ".floatright { float: right; padding-left: 1em; }\n",
    "</style>"
   ]
  },
  {
   "cell_type": "markdown",
   "metadata": {},
   "source": [
    "Topics to cover:\n",
    "\n",
    "  1. best practises that Katy and Maddicken covered\n",
    "  1. remove Nuclear Physics specific contents\n",
    "  1. add some more best coding practises\n"
   ]
  },
  {
   "cell_type": "markdown",
   "metadata": {
    "slideshow": {
     "slide_type": "slide"
    }
   },
   "source": [
    "# Who am I?"
   ]
  },
  {
   "cell_type": "markdown",
   "metadata": {
    "slideshow": {
     "slide_type": "fragment"
    }
   },
   "source": [
    "<center>\n",
    "<img src=\"fig/universityofguelph.png\"/> \n",
    "</center>"
   ]
  },
  {
   "cell_type": "markdown",
   "metadata": {
    "slideshow": {
     "slide_type": "fragment"
    }
   },
   "source": [
    "<center>\n",
    "  <img style=\"width: 400px\" src=\"fig/NCSA_INF_FullColor_RGB.png\"/>\n",
    "</center>"
   ]
  },
  {
   "cell_type": "markdown",
   "metadata": {
    "slideshow": {
     "slide_type": "subslide"
    }
   },
   "source": [
    "# What do I do?\n"
   ]
  },
  {
   "cell_type": "markdown",
   "metadata": {
    "slideshow": {
     "slide_type": "fragment"
    }
   },
   "source": [
    "<center>\n",
    "    <img style=\"width: 200px\" src=\"fig/emri_0.jpg\"/><br/>\n",
    "    image credit: NASA\n",
    "</center>"
   ]
  },
  {
   "cell_type": "markdown",
   "metadata": {
    "slideshow": {
     "slide_type": "fragment"
    }
   },
   "source": [
    "<center>\n",
    "  <img style=\"width: 100px\" src=\"fig/einstein_right.svg\"/>",
    "  <img style=\"width: 400px; padding-left: 2ex\" src=\"fig/BW_logo_blue.jpg\"/>\n",
    "</center>"
   ]
  },
  {
   "cell_type": "markdown",
   "metadata": {
    "slideshow": {
     "slide_type": "subslide"
    }
   },
   "source": [
    "# What do I do?",
    "<img style=\"width: '100%'\" src=\"fig/fortran.png\"/><br/><img style=\"width: '100%'\" src=\"fig/cxx.png\"/>"
   ]
  },
  {
   "cell_type": "markdown",
   "metadata": {
    "slideshow": {
     "slide_type": "subslide"
    }
   },
   "source": [
    "# What do I do?"
   ]
  },
  {
   "cell_type": "markdown",
   "metadata": {
    "slideshow": {
     "slide_type": "fragment"
    }
   },
   "source": [
    "<center>\n",
    "    <img style=\"height: 64px\" src=\"fig/1200px-Python-logo.png\"/>\n",
    "</center>"
   ]
  },
  {
   "cell_type": "markdown",
   "metadata": {
    "slideshow": {
     "slide_type": "fragment"
    }
   },
   "source": [
    "<center>\n",
    "    <img style=\"height: 64px\" src=\"fig/matplotlib.svg\"/>\n",
    "</center>"
   ]
  },
  {
   "cell_type": "markdown",
   "metadata": {
    "slideshow": {
     "slide_type": "fragment"
    }
   },
   "source": [
    "<center>\n",
    "    <img style=\"height: 64px\" src=\"fig/220px-NumPy_logo.png\"/>\n",
    "</center>"
   ]
  },
  {
   "cell_type": "markdown",
   "metadata": {
    "slideshow": {
     "slide_type": "slide"
    }
   },
   "source": [
    "# Science"
   ]
  },
  {
   "cell_type": "markdown",
   "metadata": {
    "slideshow": {
     "slide_type": "fragment"
    }
   },
   "source": [
    "* builds and organizes knowledge"
   ]
  },
  {
   "cell_type": "markdown",
   "metadata": {
    "slideshow": {
     "slide_type": "fragment"
    }
   },
   "source": [
    "* tests explanations about the universe"
   ]
  },
  {
   "cell_type": "markdown",
   "metadata": {
    "slideshow": {
     "slide_type": "fragment"
    }
   },
   "source": [
    "*  systematically,"
   ]
  },
  {
   "cell_type": "markdown",
   "metadata": {
    "slideshow": {
     "slide_type": "fragment"
    }
   },
   "source": [
    "* objectively,"
   ]
  },
  {
   "cell_type": "markdown",
   "metadata": {
    "slideshow": {
     "slide_type": "fragment"
    }
   },
   "source": [
    "* transparently,"
   ]
  },
  {
   "cell_type": "markdown",
   "metadata": {
    "slideshow": {
     "slide_type": "fragment"
    }
   },
   "source": [
    "* and reproducibly."
   ]
  },
  {
   "cell_type": "markdown",
   "metadata": {
    "slideshow": {
     "slide_type": "fragment"
    }
   },
   "source": [
    "***Otherwise it's not science.***"
   ]
  },
  {
   "cell_type": "markdown",
   "metadata": {
    "slideshow": {
     "slide_type": "subslide"
    }
   },
   "source": [
    "# Computers should..."
   ]
  },
  {
   "cell_type": "markdown",
   "metadata": {
    "slideshow": {
     "slide_type": "fragment"
    }
   },
   "source": [
    "* improve efficiency,"
   ]
  },
  {
   "cell_type": "markdown",
   "metadata": {
    "slideshow": {
     "slide_type": "fragment"
    }
   },
   "source": [
    "* reduce human error,"
   ]
  },
  {
   "cell_type": "markdown",
   "metadata": {
    "slideshow": {
     "slide_type": "fragment"
    }
   },
   "source": [
    "* automate the mundane,"
   ]
  },
  {
   "cell_type": "markdown",
   "metadata": {
    "slideshow": {
     "slide_type": "fragment"
    }
   },
   "source": [
    "* simplify the complex,"
   ]
  },
  {
   "cell_type": "markdown",
   "metadata": {
    "slideshow": {
     "slide_type": "fragment"
    }
   },
   "source": [
    "* and accelerate research."
   ]
  },
  {
   "cell_type": "markdown",
   "metadata": {
    "slideshow": {
     "slide_type": "fragment"
    }
   },
   "source": [
    "***But we don't always them effectively.***"
   ]
  },
  {
   "cell_type": "markdown",
   "metadata": {
    "slideshow": {
     "slide_type": "slide"
    }
   },
   "source": [
    "# Getting started\n",
    "\n",
    "<img style=\"width:400px\" src=\"fig/The_Scientific_Method.svg\">\n",
    "\n",
    "[Efrazil](https://commons.wikimedia.org/w/index.php?title=User:Efbrazil) [CC BY-SA 4.0](https://creativecommons.org/licenses/by-sa/4.0)"
   ]
  },
  {
   "cell_type": "markdown",
   "metadata": {
    "slideshow": {
     "slide_type": "subslide"
    }
   },
   "source": [
    "# Data Storage"
   ]
  },
  {
   "cell_type": "markdown",
   "metadata": {
    "slideshow": {
     "slide_type": "fragment"
    }
   },
   "source": [
    "* **Good:** pencil and paper "
   ]
  },
  {
   "cell_type": "markdown",
   "metadata": {
    "slideshow": {
     "slide_type": "fragment"
    }
   },
   "source": [
    "* **Better:** spreadsheet"
   ]
  },
  {
   "cell_type": "markdown",
   "metadata": {
    "slideshow": {
     "slide_type": "fragment"
    }
   },
   "source": [
    "* **<span style=\"color: green\">Best:</span>** standardized file format, database management system"
   ]
  },
  {
   "cell_type": "markdown",
   "metadata": {
    "slideshow": {
     "slide_type": "fragment"
    }
   },
   "source": [
    "**<span style=\"color: blue\"> Formats:</span>**  csv, YAML, Hierarchical Data Format (HDF), Flexible Image Transport System (FITS), etc."
   ]
  },
  {
   "cell_type": "markdown",
   "metadata": {
    "slideshow": {
     "slide_type": "fragment"
    }
   },
   "source": [
    "**<span style=\"color: blue\"> Management:</span>** C++/Python/Fortran APIs, HDF5, Pandas, astropy, etc."
   ]
  },
  {
   "cell_type": "markdown",
   "metadata": {
    "slideshow": {
     "slide_type": "subslide"
    }
   },
   "source": [
    "# Backing Up Files"
   ]
  },
  {
   "cell_type": "markdown",
   "metadata": {
    "slideshow": {
     "slide_type": "fragment"
    }
   },
   "source": [
    "* **Good:** hope"
   ]
  },
  {
   "cell_type": "markdown",
   "metadata": {
    "slideshow": {
     "slide_type": "fragment"
    }
   },
   "source": [
    "* **Better:** nightly emails"
   ]
  },
  {
   "cell_type": "markdown",
   "metadata": {
    "slideshow": {
     "slide_type": "fragment"
    }
   },
   "source": [
    "* **<span style=\"color: green\"> Best:</span>** remote version control (GitHub, BitBucket, GitLab), remote backup (CrashPlan, Duplicity)"
   ]
  },
  {
   "cell_type": "markdown",
   "metadata": {
    "slideshow": {
     "slide_type": "fragment"
    }
   },
   "source": [
    "**<span style=\"color: blue\"> Version Control Systems:</span>** svn, hg, **git**"
   ]
  },
  {
   "cell_type": "markdown",
   "metadata": {
    "slideshow": {
     "slide_type": "fragment"
    }
   },
   "source": [
    "**<span style=\"color: blue\"> Hint:</span>** tools like git-annex or git-lfs can help you manager large data files"
   ]
  },
  {
   "cell_type": "markdown",
   "metadata": {
    "slideshow": {
     "slide_type": "subslide"
    }
   },
   "source": [
    "# Managing Changes"
   ]
  },
  {
   "cell_type": "markdown",
   "metadata": {
    "slideshow": {
     "slide_type": "fragment"
    }
   },
   "source": [
    "* **Good:** naming convention"
   ]
  },
  {
   "cell_type": "markdown",
   "metadata": {
    "slideshow": {
     "slide_type": "fragment"
    }
   },
   "source": [
    "* **Better:** clever naming convention"
   ]
  },
  {
   "cell_type": "markdown",
   "metadata": {
    "slideshow": {
     "slide_type": "fragment"
    }
   },
   "source": [
    "* **<span style=\"color: green\"> Best:</span>** local version control"
   ]
  },
  {
   "cell_type": "markdown",
   "metadata": {
    "slideshow": {
     "slide_type": "fragment"
    }
   },
   "source": [
    "<img src=\"fig/git_vc.jpeg\"/>"
   ]
  },
  {
   "cell_type": "markdown",
   "metadata": {
    "slideshow": {
     "slide_type": "slide"
    }
   },
   "source": [
    "# Getting It Done"
   ]
  },
  {
   "cell_type": "markdown",
   "metadata": {
    "slideshow": {
     "slide_type": "subslide"
    }
   },
   "source": [
    "# Analysis"
   ]
  },
  {
   "cell_type": "markdown",
   "metadata": {
    "slideshow": {
     "slide_type": "fragment"
    }
   },
   "source": [
    "* **Good:** pencil and calculator"
   ]
  },
  {
   "cell_type": "markdown",
   "metadata": {
    "slideshow": {
     "slide_type": "fragment"
    }
   },
   "source": [
    "* **Better:** spreadsheets, matlab, mathematica"
   ]
  },
  {
   "cell_type": "markdown",
   "metadata": {
    "slideshow": {
     "slide_type": "fragment"
    }
   },
   "source": [
    "* **<span style=\"color: green\"> Best:</span>** scripting, open source libraries, current programming language"
   ]
  },
  {
   "cell_type": "markdown",
   "metadata": {
    "slideshow": {
     "slide_type": "fragment"
    }
   },
   "source": [
    "**<span style=\"color: blue\">Hint:</span>** Check out GitHub for existing toolkits for analysis in your domain. e.g. astropy"
   ]
  },
  {
   "cell_type": "markdown",
   "metadata": {
    "slideshow": {
     "slide_type": "subslide"
    }
   },
   "source": [
    "# Multiple File Cleanup"
   ]
  },
  {
   "cell_type": "markdown",
   "metadata": {
    "slideshow": {
     "slide_type": "fragment"
    }
   },
   "source": [
    "* **Good:** manually edit every file"
   ]
  },
  {
   "cell_type": "markdown",
   "metadata": {
    "slideshow": {
     "slide_type": "fragment"
    }
   },
   "source": [
    "* **Better:** search and replace in each file"
   ]
  },
  {
   "cell_type": "markdown",
   "metadata": {
    "slideshow": {
     "slide_type": "fragment"
    }
   },
   "source": [
    "* **<span style=\"color: green\"> Best:</span>** scripted batch editing with backups"
   ]
  },
  {
   "cell_type": "markdown",
   "metadata": {
    "slideshow": {
     "slide_type": "fragment"
    }
   },
   "source": [
    "**<span style=\"color: blue\">Hint:</span>** try a tutorial on BASH, ZSH, Python, or Perl, e.g. the [bash lesson by Software Carpentry](http://swcarpentry.github.io/shell-novice/)."
   ]
  },
  {
   "cell_type": "markdown",
   "metadata": {
    "slideshow": {
     "slide_type": "subslide"
    }
   },
   "source": [
    "# Executing Workflows"
   ]
  },
  {
   "cell_type": "markdown",
   "metadata": {
    "slideshow": {
     "slide_type": "fragment"
    }
   },
   "source": [
    "* **Good:** retype a series of commands from notes"
   ]
  },
  {
   "cell_type": "markdown",
   "metadata": {
    "slideshow": {
     "slide_type": "fragment"
    }
   },
   "source": [
    "* **Better:** shell script"
   ]
  },
  {
   "cell_type": "markdown",
   "metadata": {
    "slideshow": {
     "slide_type": "fragment"
    }
   },
   "source": [
    "* **<span style=\"color: green\"> Best:</span>** build system"
   ]
  },
  {
   "cell_type": "markdown",
   "metadata": {
    "slideshow": {
     "slide_type": "fragment"
    }
   },
   "source": [
    "**<span style=\"color: blue\">Build system tools:</span>** make, docker, cmake, autoconf, automake, etc."
   ]
  },
  {
   "cell_type": "markdown",
   "metadata": {
    "slideshow": {
     "slide_type": "fragment"
    }
   },
   "source": [
    "**<span style=\"color: blue\">Reference:</span>** The Carpentries have an associated [Automation and Make](http://swcarpentry.github.io/make-novice/) lesson"
   ]
  },
  {
   "cell_type": "markdown",
   "metadata": {
    "slideshow": {
     "slide_type": "subslide"
    }
   },
   "source": [
    "# Data Structures"
   ]
  },
  {
   "cell_type": "markdown",
   "metadata": {
    "slideshow": {
     "slide_type": "fragment"
    }
   },
   "source": [
    "* **Good:** 100 string variables holding numbers"
   ]
  },
  {
   "cell_type": "markdown",
   "metadata": {
    "slideshow": {
     "slide_type": "fragment"
    }
   },
   "source": [
    "* **Better:** list of list of numbers"
   ]
  },
  {
   "cell_type": "markdown",
   "metadata": {
    "slideshow": {
     "slide_type": "fragment"
    }
   },
   "source": [
    "* **<span style=\"color: green\"> Best:</span>** appropriate powerful data structures"
   ]
  },
  {
   "cell_type": "markdown",
   "metadata": {
    "slideshow": {
     "slide_type": "fragment"
    }
   },
   "source": [
    "**<span style=\"color: blue\">Hint:</span>** In C++, learn about structs, unordered\\_maps, maps, vectors, and (maybe) classes, etc. In Python the power lies in dictionaries, and numpy arrays, and DataFrames when analyzing data."
   ]
  },
  {
   "cell_type": "markdown",
   "metadata": {
    "slideshow": {
     "slide_type": "subslide"
    }
   },
   "source": [
    "# API Design"
   ]
  },
  {
   "cell_type": "markdown",
   "metadata": {
    "slideshow": {
     "slide_type": "fragment"
    }
   },
   "source": [
    "* **Good:** single block of procedural code"
   ]
  },
  {
   "cell_type": "markdown",
   "metadata": {
    "slideshow": {
     "slide_type": "fragment"
    }
   },
   "source": [
    "* **Better:** separate functions"
   ]
  },
  {
   "cell_type": "markdown",
   "metadata": {
    "slideshow": {
     "slide_type": "fragment"
    }
   },
   "source": [
    "* **<span style=\"color: green\"> Best:</span>** small, testable functions that handle well defined tasks, grop into classes"
   ]
  },
  {
   "cell_type": "markdown",
   "metadata": {
    "slideshow": {
     "slide_type": "fragment"
    }
   },
   "source": [
    "**<span style=\"color: blue\">DRY:</span>** Don't Repeat Yourself. Code replication is bug proliferation.\n",
    "\n",
    "**<span style=\"color: blue\">KISS:</span>** Keep it simple, stupid."
   ]
  },
  {
   "cell_type": "markdown",
   "metadata": {
    "slideshow": {
     "slide_type": "subslide"
    }
   },
   "source": [
    "# Variable Naming"
   ]
  },
  {
   "cell_type": "markdown",
   "metadata": {
    "slideshow": {
     "slide_type": "fragment"
    }
   },
   "source": [
    "* **Good:** d1, d2, d3"
   ]
  },
  {
   "cell_type": "markdown",
   "metadata": {
    "slideshow": {
     "slide_type": "fragment"
    }
   },
   "source": [
    "* **Better:** x, y, z"
   ]
  },
  {
   "cell_type": "markdown",
   "metadata": {
    "slideshow": {
     "slide_type": "fragment"
    }
   },
   "source": [
    "* **<span style=\"color: green\"> Best:</span>** p.x, p.y, p.z, p = Point(x,y,z)"
   ]
  },
  {
   "cell_type": "markdown",
   "metadata": {
    "slideshow": {
     "slide_type": "fragment"
    }
   },
   "source": [
    "**<span style=\"color: blue\">Hint:</span>** [Prof. Jenny Bryan on Naming Things](https://t.co/CGfXDSDvmz)"
   ]
  },
  {
   "cell_type": "markdown",
   "metadata": {
    "slideshow": {
     "slide_type": "subslide"
    }
   },
   "source": [
    "# Style Guides"
   ]
  },
  {
   "cell_type": "markdown",
   "metadata": {
    "slideshow": {
     "slide_type": "fragment"
    }
   },
   "source": [
    "* **Good:** Have consistent style"
   ]
  },
  {
   "cell_type": "markdown",
   "metadata": {
    "slideshow": {
     "slide_type": "fragment"
    }
   },
   "source": [
    "* **Better:** Agree with your colleagues on style"
   ]
  },
  {
   "cell_type": "markdown",
   "metadata": {
    "slideshow": {
     "slide_type": "fragment"
    }
   },
   "source": [
    "* **<span style=\"color: green\"> Best:</span>** Follow a standard style guide and use a code formatter"
   ]
  },
  {
   "cell_type": "markdown",
   "metadata": {
    "slideshow": {
     "slide_type": "fragment"
    }
   },
   "source": [
    "**<span style=\"color: blue\">Hint:</span>** [clang-format](https://www.kernel.org/doc/html/latest/process/clang-format.html), [Black code formatter for Python](https://black.readthedocs.io/en/stable/)"
   ]
  },
  {
   "cell_type": "markdown",
   "metadata": {
    "slideshow": {
     "slide_type": "subslide"
    }
   },
   "source": [
    "# Comments on commenting"
   ]
  },
  {
   "cell_type": "markdown",
   "metadata": {
    "slideshow": {
     "slide_type": "fragment"
    }
   },
   "source": [
    "* **Good:** have readable code"
   ]
  },
  {
   "cell_type": "markdown",
   "metadata": {
    "slideshow": {
     "slide_type": "fragment"
    }
   },
   "source": [
    "* **Better:** document what each code units does"
   ]
  },
  {
   "cell_type": "markdown",
   "metadata": {
    "slideshow": {
     "slide_type": "fragment"
    }
   },
   "source": [
    "* **<span style=\"color: green\"> Best:</span>** document design and purpose of each code unit"
   ]
  },
  {
   "cell_type": "markdown",
   "metadata": {
    "slideshow": {
     "slide_type": "fragment"
    }
   },
   "source": [
    "**<span style=\"color: blue\">Hints:</span>** [Best practices for writing code comments](https://stackoverflow.blog/2021/12/23/best-practices-for-writing-code-comments/), Python [PEP-8](https://peps.python.org/pep-0008/#comments)"
   ]
  },
  {
   "cell_type": "markdown",
   "metadata": {
    "slideshow": {
     "slide_type": "fragment"
    }
   },
   "source": [
    "<center><img src=\"fig/et_comments.png\"/></center>"
   ]
  },
  {
   "cell_type": "markdown",
   "metadata": {
    "slideshow": {
     "slide_type": "subslide"
    }
   },
   "source": [
    "# Runtime Parameter Handling"
   ]
  },
  {
   "cell_type": "markdown",
   "metadata": {
    "slideshow": {
     "slide_type": "fragment"
    }
   },
   "source": [
    "* **Good:** none, hardcoded variables"
   ]
  },
  {
   "cell_type": "markdown",
   "metadata": {
    "slideshow": {
     "slide_type": "fragment"
    }
   },
   "source": [
    "* **Better:** plain text input file, line-by-line homemade string parsing"
   ]
  },
  {
   "cell_type": "markdown",
   "metadata": {
    "slideshow": {
     "slide_type": "fragment"
    }
   },
   "source": [
    "* **<span style=\"color: green\"> Best:</span>** argument / file parsing library"
   ]
  },
  {
   "cell_type": "markdown",
   "metadata": {
    "slideshow": {
     "slide_type": "fragment"
    }
   },
   "source": [
    "**<span style=\"color: blue\"> Formats:</span>** Python argparse, libconfig, yaml-cpp, spify, etc."
   ]
  },
  {
   "cell_type": "markdown",
   "metadata": {
    "slideshow": {
     "slide_type": "slide"
    }
   },
   "source": [
    "# Getting It Right"
   ]
  },
  {
   "cell_type": "markdown",
   "metadata": {
    "slideshow": {
     "slide_type": "subslide"
    }
   },
   "source": [
    "# Error Detection"
   ]
  },
  {
   "cell_type": "markdown",
   "metadata": {
    "slideshow": {
     "slide_type": "fragment"
    }
   },
   "source": [
    "* **Good:** show results to experts"
   ]
  },
  {
   "cell_type": "markdown",
   "metadata": {
    "slideshow": {
     "slide_type": "fragment"
    }
   },
   "source": [
    "* **Better:** integration testing"
   ]
  },
  {
   "cell_type": "markdown",
   "metadata": {
    "slideshow": {
     "slide_type": "fragment"
    }
   },
   "source": [
    "* **<span style=\"color: green\"> Best:</span>** unit test suite, continuous integration"
   ]
  },
  {
   "cell_type": "markdown",
   "metadata": {
    "slideshow": {
     "slide_type": "fragment"
    }
   },
   "source": [
    "<img style=\"width: 100%\" src=\"fig/et_ci.jpg\">"
   ]
  },
  {
   "cell_type": "markdown",
   "metadata": {
    "slideshow": {
     "slide_type": "subslide"
    }
   },
   "source": [
    "# Error Diagnostics"
   ]
  },
  {
   "cell_type": "markdown",
   "metadata": {
    "slideshow": {
     "slide_type": "fragment"
    }
   },
   "source": [
    "* **Good:** re-re-read the code"
   ]
  },
  {
   "cell_type": "markdown",
   "metadata": {
    "slideshow": {
     "slide_type": "fragment"
    }
   },
   "source": [
    "* **Better:** print statements"
   ]
  },
  {
   "cell_type": "markdown",
   "metadata": {
    "slideshow": {
     "slide_type": "fragment"
    }
   },
   "source": [
    "* **<span style=\"color: green\"> Best:</span>** use a linter, a debugger, and a profiler"
   ]
  },
  {
   "cell_type": "markdown",
   "metadata": {
    "slideshow": {
     "slide_type": "fragment"
    }
   },
   "source": [
    "**<span style=\"color: blue\">Tools:</span>** cpplint, pyflakes, gdb, lldb, pdb, idb, perf, hotspot, coz, valgrind, kernprof, kcachegrind, cprofile/snakeviz"
   ]
  },
  {
   "cell_type": "markdown",
   "metadata": {
    "slideshow": {
     "slide_type": "subslide"
    }
   },
   "source": [
    "# Error Correction"
   ]
  },
  {
   "cell_type": "markdown",
   "metadata": {
    "slideshow": {
     "slide_type": "fragment"
    }
   },
   "source": [
    "* **Good:** fix code"
   ]
  },
  {
   "cell_type": "markdown",
   "metadata": {
    "slideshow": {
     "slide_type": "fragment"
    }
   },
   "source": [
    "* **Better:** fix, add an exception"
   ]
  },
  {
   "cell_type": "markdown",
   "metadata": {
    "slideshow": {
     "slide_type": "fragment"
    }
   },
   "source": [
    "* **<span style=\"color: green\"> Best:</span>** fix, add an exception, add a test"
   ]
  },
  {
   "cell_type": "markdown",
   "metadata": {
    "slideshow": {
     "slide_type": "fragment"
    }
   },
   "source": [
    "<img style=\"width: 100%\" src=\"fig/spec_test_update.png\">"
   ]
  },
  {
   "cell_type": "markdown",
   "metadata": {
    "slideshow": {
     "slide_type": "slide"
    }
   },
   "source": [
    "# Getting It Together"
   ]
  },
  {
   "cell_type": "markdown",
   "metadata": {
    "slideshow": {
     "slide_type": "subslide"
    }
   },
   "source": [
    "# Merging Collaborative Work"
   ]
  },
  {
   "cell_type": "markdown",
   "metadata": {
    "slideshow": {
     "slide_type": "fragment"
    }
   },
   "source": [
    "* **Good:** single master copy, waiting"
   ]
  },
  {
   "cell_type": "markdown",
   "metadata": {
    "slideshow": {
     "slide_type": "fragment"
    }
   },
   "source": [
    "* **Better:** email and patches"
   ]
  },
  {
   "cell_type": "markdown",
   "metadata": {
    "slideshow": {
     "slide_type": "fragment"
    }
   },
   "source": [
    "* **<span style=\"color: green\"> Best:</span>** remote version control"
   ]
  },
  {
   "cell_type": "markdown",
   "metadata": {
    "slideshow": {
     "slide_type": "fragment"
    }
   },
   "source": [
    "<img style=\"width: 100%\" src=\"fig/mpitar_WIP_pull.png\">"
   ]
  },
  {
   "cell_type": "markdown",
   "metadata": {
    "slideshow": {
     "slide_type": "subslide"
    }
   },
   "source": [
    "# Peer Review For Code"
   ]
  },
  {
   "cell_type": "markdown",
   "metadata": {
    "slideshow": {
     "slide_type": "fragment"
    }
   },
   "source": [
    "* **Good:** separation of concerns"
   ]
  },
  {
   "cell_type": "markdown",
   "metadata": {
    "slideshow": {
     "slide_type": "fragment"
    }
   },
   "source": [
    "* **Better:** shared repository(s)"
   ]
  },
  {
   "cell_type": "markdown",
   "metadata": {
    "slideshow": {
     "slide_type": "fragment"
    }
   },
   "source": [
    "* **<span style=\"color: green\"> Best:</span>** peer-reviewed pull requests"
   ]
  },
  {
   "cell_type": "markdown",
   "metadata": {
    "slideshow": {
     "slide_type": "fragment"
    }
   },
   "source": [
    "**<span style=\"color: blue\">Hint:</span>** reviewing changes is work, keep them simple, stupid."
   ]
  },
  {
   "cell_type": "markdown",
   "metadata": {
    "slideshow": {
     "slide_type": "subslide"
    }
   },
   "source": [
    "# Teamwork"
   ]
  },
  {
   "cell_type": "markdown",
   "metadata": {
    "slideshow": {
     "slide_type": "fragment"
    }
   },
   "source": [
    "* **Good:** weekly research meetings, year-long tasks"
   ]
  },
  {
   "cell_type": "markdown",
   "metadata": {
    "slideshow": {
     "slide_type": "fragment"
    }
   },
   "source": [
    "* **Better:** daily conversations, month-long goals"
   ]
  },
  {
   "cell_type": "markdown",
   "metadata": {
    "slideshow": {
     "slide_type": "fragment"
    }
   },
   "source": [
    "* **<span style=\"color: green\"> Best:</span>** pair programming, issue tracking"
   ]
  },
  {
   "cell_type": "markdown",
   "metadata": {
    "slideshow": {
     "slide_type": "fragment"
    }
   },
   "source": [
    "<img style=\"width: 100%\" src=\"fig/et_issues.png\">"
   ]
  },
  {
   "cell_type": "markdown",
   "metadata": {
    "slideshow": {
     "slide_type": "subslide"
    }
   },
   "source": [
    "# Software Handovers"
   ]
  },
  {
   "cell_type": "markdown",
   "metadata": {
    "slideshow": {
     "slide_type": "fragment"
    }
   },
   "source": [
    "* **Good:** zip file, theory paper"
   ]
  },
  {
   "cell_type": "markdown",
   "metadata": {
    "slideshow": {
     "slide_type": "fragment"
    }
   },
   "source": [
    "* **Better:** code repository, theory paper, comments in code, example input file"
   ]
  },
  {
   "cell_type": "markdown",
   "metadata": {
    "slideshow": {
     "slide_type": "fragment"
    }
   },
   "source": [
    "* **<span style=\"color: green\"> Best:</span>** code repository, theory paper, automated documentation, example input file, test suite"
   ]
  },
  {
   "cell_type": "markdown",
   "metadata": {
    "slideshow": {
     "slide_type": "subslide"
    }
   },
   "source": [
    "# Documentation"
   ]
  },
  {
   "cell_type": "markdown",
   "metadata": {
    "slideshow": {
     "slide_type": "fragment"
    }
   },
   "source": [
    "* **Good:** paper notes describing model in code"
   ]
  },
  {
   "cell_type": "markdown",
   "metadata": {
    "slideshow": {
     "slide_type": "fragment"
    }
   },
   "source": [
    "* **Better:** electronic documentation in code repository"
   ]
  },
  {
   "cell_type": "markdown",
   "metadata": {
    "slideshow": {
     "slide_type": "fragment"
    }
   },
   "source": [
    "* **<span style=\"color: green\"> Best:</span>** auto-generated documenttaion describing code intent and usage"
   ]
  },
  {
   "cell_type": "markdown",
   "metadata": {
    "slideshow": {
     "slide_type": "fragment"
    }
   },
   "source": [
    "**<span style=\"color: blue\">Tools:</span>** [doxygen](https://www.doxygen.nl/index.html), [sphinx](https://www.sphinx-doc.org/en/master/)"
   ]
  },
  {
   "cell_type": "markdown",
   "metadata": {
    "slideshow": {
     "slide_type": "fragment"
    }
   },
   "source": [
    "<img style=\"width: 100%\" src=\"fig/eigen_doxygen.png\">"
   ]
  },
  {
   "cell_type": "markdown",
   "metadata": {
    "slideshow": {
     "slide_type": "slide"
    }
   },
   "source": [
    "# Getting It Out There"
   ]
  },
  {
   "cell_type": "markdown",
   "metadata": {
    "slideshow": {
     "slide_type": "subslide"
    }
   },
   "source": [
    "# Plotting"
   ]
  },
  {
   "cell_type": "markdown",
   "metadata": {
    "slideshow": {
     "slide_type": "fragment"
    }
   },
   "source": [
    "* **Good:** custom formatting, clickable GUI"
   ]
  },
  {
   "cell_type": "markdown",
   "metadata": {
    "slideshow": {
     "slide_type": "fragment"
    }
   },
   "source": [
    "* **Better:** plot format templates (Excel, Mathematica)"
   ]
  },
  {
   "cell_type": "markdown",
   "metadata": {
    "slideshow": {
     "slide_type": "fragment"
    }
   },
   "source": [
    "* **<span style=\"color: green\"> Best:</span>** scripted plotting, matplotlib, gnuplot, etc."
   ]
  },
  {
   "cell_type": "markdown",
   "metadata": {
    "slideshow": {
     "slide_type": "subslide"
    }
   },
   "source": [
    "# Writing"
   ]
  },
  {
   "cell_type": "markdown",
   "metadata": {
    "slideshow": {
     "slide_type": "fragment"
    }
   },
   "source": [
    "* **Good:** Microsoft Word, LibreOffice Write"
   ]
  },
  {
   "cell_type": "markdown",
   "metadata": {
    "slideshow": {
     "slide_type": "fragment"
    }
   },
   "source": [
    "* **Better:** Word, Write with track changes"
   ]
  },
  {
   "cell_type": "markdown",
   "metadata": {
    "slideshow": {
     "slide_type": "fragment"
    }
   },
   "source": [
    "* **<span style=\"color: green\"> Best:</span>** plain text markup with version control and a makefile"
   ]
  },
  {
   "cell_type": "markdown",
   "metadata": {
    "slideshow": {
     "slide_type": "fragment"
    }
   },
   "source": [
    "**<span style=\"color: blue\">Tools:</span>** LaTeX, markdown, restructured text"
   ]
  },
  {
   "cell_type": "markdown",
   "metadata": {
    "slideshow": {
     "slide_type": "subslide"
    }
   },
   "source": [
    "# Distribution Control"
   ]
  },
  {
   "cell_type": "markdown",
   "metadata": {
    "slideshow": {
     "slide_type": "fragment"
    }
   },
   "source": [
    "* **Good:** \"email to request access\""
   ]
  },
  {
   "cell_type": "markdown",
   "metadata": {
    "slideshow": {
     "slide_type": "fragment"
    }
   },
   "source": [
    "* **Better:** license file"
   ]
  },
  {
   "cell_type": "markdown",
   "metadata": {
    "slideshow": {
     "slide_type": "fragment"
    }
   },
   "source": [
    "* **<span style=\"color: green\"> Best:</span>** license file, citation file, DOI, forkable repository"
   ]
  },
  {
   "cell_type": "markdown",
   "metadata": {
    "slideshow": {
     "slide_type": "fragment"
    }
   },
   "source": [
    "**<span style=\"color: green\"> Example:</span>** [SpECTRE](https://github.com/sxs-collaboration/spectre)"
   ]
  },
  {
   "cell_type": "markdown",
   "metadata": {
    "slideshow": {
     "slide_type": "subslide"
    }
   },
   "source": [
    "# Community Adoption"
   ]
  },
  {
   "cell_type": "markdown",
   "metadata": {
    "slideshow": {
     "slide_type": "fragment"
    }
   },
   "source": [
    "* **Good:** none, internal use only"
   ]
  },
  {
   "cell_type": "markdown",
   "metadata": {
    "slideshow": {
     "slide_type": "fragment"
    }
   },
   "source": [
    "* **Better:** online repository, developer email online"
   ]
  },
  {
   "cell_type": "markdown",
   "metadata": {
    "slideshow": {
     "slide_type": "fragment"
    }
   },
   "source": [
    "* **<span style=\"color: green\"> Best:</span>** issue tracker, user/developer forum, communication channels, online documentation"
   ]
  },
  {
   "cell_type": "markdown",
   "metadata": {
    "slideshow": {
     "slide_type": "slide"
    }
   },
   "source": [
    "# Resources"
   ]
  },
  {
   "cell_type": "markdown",
   "metadata": {
    "slideshow": {
     "slide_type": "subslide"
    }
   },
   "source": [
    "# Papers!\n",
    "<small>",
    "  <ul>",
    "    <li>",
    "    <a href=\"http://www.plosbiology.org/article/info%3Adoi%2F10.1371%2Fjournal.pbio.1001745\">",
    "    Wilson, Greg, D. A. Aruliah, C. Titus Brown, ",
    "    Neil P. Chue Hong, Matt Davis, Richard T. ",
    "    Guy, Steven H. D. Haddock, Kathryn D. Huff, ",
    "    et al. 2014. Best Practices for Scientific ",
    "    Computing. PLoS Biol 12 (1): e1001745.  ",
    "    doi:10.1371/journal.pbio.1001745.",
    "    </a></li>",
    "",
    "    <li>",
    "    <a href=\"https://arxiv.org/abs/1609.00037\"> ",
    "            Wilson, Greg, Jennifer Bryan, ",
    "            Karen Cranston, Justin ",
    "            Kitzes, Lex Nederbragt, and ",
    "            Tracy K. Teal. 2016. Good ",
    "            Enough Practices in ",
    "            Scientific Computing. ",
    "            arXiv:1609.00037 [Cs], ",
    "            August. ",
    "            http://arxiv.org/abs/1609.00037.",
    "",
    "    <li> <a href=\"https://www.amazon.com/Effective-Computation-Physics-Anthony-Scopatz/dp/1491901535\"> ",
    "            Scopatz, Anthony, and ",
    "    Kathryn D. Huff. 2015. Effective ",
    "    Computation in Physics.  1st edition. ",
    "ly Media.  </a></li>",
    "",
    "    <li>",
    "    <a href=\"http://dx.doi.org/10.5334/jors.ba\">",
    "      Blanton, Brian, and Chris Lenhardt. 2014. A ",
    "    Scientists Perspective on Sustainable ",
    "    Scientific Software. Journal of Open ",
    "    Research Software, Issues in Research ",
    "    Software, 2 (1): e17. ",
    "    </a></li>",
    "",
    "    <li>",
    "    <a href=\"http://dx.doi.org/10.1109/MCSE.2009.15\">",
    "    Donoho, David L., Arian Maleki, Inam Ur ",
    "    Rahman, Morteza Shahram, and Victoria ",
    "    Stodden. 2009. Reproducible Research in ",
    "    Computational Harmonic Analysis. Computing ",
    "    in Science & Engineering 11 (1): 818. ",
    "    doi:10.1109/MCSE.2009.15.",
    "    </a></li>",
    "",
    "    <li>",
    "    <a href=\"http://dx.doi.org/10.1109/MIC.2014.88\">",
    "    Goble, Carole. 2014. Better Software, Better ",
    "    Research. IEEE Internet Computing 18 (5): ",
    "    48. doi:10.1109/MIC.2014.88.",
    "    </a></li>",
    "",
    "    <li>",
    "    <a href=\"http://dl.acm.org/citation.cfm?id=1556928\">",
    "    Hannay, J. E, C. MacLeod, J. Singer, H. P ",
    "    Langtangen, D. Pfahl, and G. Wilson. 2009. ",
    "    How Do Scientists Develop and Use Scientific ",
    "    Software? In Proceedings of the 2009 ICSE ",
    "    Workshop on Software Engineering for ",
    "    Computational Science and Engineering, 18.",
    "    </a></li>",
    "",
    "    <li>",
    "    <a href=\"http://dx.doi.org/10.1126/science.1231535\">",
    "    Joppa, L. N., G. McInerny, R. Harper, L. ",
    "    Salido, K. Takeda, K. OHara, D. Gavaghan, ",
    "    and S. Emmott. 2013. Troubling Trends in ",
    "    Scientific Software Use. Science 340 (6134): ",
    "    81415.  doi:10.1126/science.1231535.",
    "    </a></li>",
    "",
    "    <li>",
    "    <a href=\"http://dx.doi/org/10.1038/467775a\">",
    "    Merali, Zeeya. 2010. Computational Science: ",
    "    ...Error. Nature 467 (7317): 77577. ",
    "    doi:10.1038/467775a.",
    "    </a></li>",
    "",
    "    <li>",
    "    <a href=\"http://arxiv.org/abs/1407.5648\">",
    "    Petre, Marian, and Greg Wilson. 2014. Code ",
    "    Review For and By Scientists. ",
    "    arXiv:1407.5648 [cs], July. ",
    "    </a></li>",
    "",
    "    <li>",
    "    <a href=\"http://arxiv.org/abs/1407.6220\">",
    "    Schossau, Jory, and Greg Wilson. 2014. Which ",
    "    Sustainable Software Practices Do Scientists ",
    "    Find Most Useful? arXiv:1407.6220 [cs], ",
    "    July.",
    "    </a></li>",
    "",
    "    <li>",
    "    <a href=\"http://dx.doi.org/10.2139/ssrn.1550193\">",
    "    Stodden, Victoria. 2010. The Scientific ",
    "    Method in Practice: Reproducibility in the ",
    "    Computational Sciences. SSRN Electronic ",
    "    Journal. doi:10.2139/ssrn.1550193.",
    "    </a></li>",
    "",
    "    <li>",
    "    <a href=\"http://dx.doi.org/10.1371/journal.pone.0026828\">",
    "    Wicherts, Jelte M., Marjan Bakker, and Dylan ",
    "    Molenaar. 2011. Willingness to Share ",
    "    Research Data Is Related to the Strength of ",
    "    the Evidence and the Quality of Reporting of ",
    "    Statistical Results. PLoS ONE 6 (11): ",
    "    e26828. doi:10.1371/journal.pone.0026828.",
    "    </a></li>",
    "",
    "  </ul>",
    "</small>"
   ]
  },
  {
   "cell_type": "markdown",
   "metadata": {
    "slideshow": {
     "slide_type": "subslide"
    }
   },
   "source": [
    "# Books!\n",
    "* Clean Code - Robert C. Martin\n",
    "* Working Effectively with Legacy Code - Martin Fowler\n",
    "* Effective Computation in Physics - Huff, Scopatz\n",
    "* The Elements of Prgoamming Style - Kernghan and Pauger (1974)\n"
   ]
  },
  {
   "cell_type": "markdown",
   "metadata": {
    "slideshow": {
     "slide_type": "slide"
    }
   },
   "source": [
    "# Acknowledgements\n",
    "\n",
    "Many of these slides were originally in presentations by Dr. Katy Huff and Dr. Madicken Munk at\n",
    "\n",
    "* [katyhuff.github.io/2017-09-20-ncsa](https://katyhuff.github.io/2017-09-20-ncsa)\n",
    "* [munkm.github.io/2021-09-24-NCSA](munkm.github.io/2021-09-24-NCSA).\n",
    "\n",
    "which are licensed under a [Creative Commons Attribution 4.0 International License](https://creativecommons.org/licenses/by/4.0/).\n",
    "\n",
    "<img class=\"floatleft\" style=\"height: 4em\" src=\"fig/logo_nsf.jpg\"/>This work has been supported by NSF grants [2004879](https://nsf.gov/awardsearch/showAward?AWD_ID=2004879), [2103680](https://nsf.gov/awardsearch/showAward?AWD_ID=2103680). Any opinions, findings, and conclusions or recommendations expressed in this material are those of the author(s) and do not necessarily reflect the views of the National Science Foundation.\n", 
    "\n",
    "General programing best practices by Roland Haas is licensed under a [Creative Commons Attribution 4.0 International License](http://creativecommons.org/licenses/by/4.0/). \n",
    "\n",
    "Based on a work at http://munkm.github.io/2021-09-24-NCSA." 
   ]
  }
 ],
 "metadata": {
  "celltoolbar": "Slideshow",
  "kernelspec": {
   "display_name": "Python 3 (ipykernel)",
   "language": "python",
   "name": "python3"
  },
  "language_info": {
   "codemirror_mode": {
    "name": "ipython",
    "version": 3
   },
   "file_extension": ".py",
   "mimetype": "text/x-python",
   "name": "python",
   "nbconvert_exporter": "python",
   "pygments_lexer": "ipython3",
   "version": "3.10.4"
  }
 },
 "nbformat": 4,
 "nbformat_minor": 2
}
